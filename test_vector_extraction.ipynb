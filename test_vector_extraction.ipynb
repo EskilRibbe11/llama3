{
 "cells": [
  {
   "cell_type": "code",
   "execution_count": 12,
   "metadata": {},
   "outputs": [],
   "source": [
    "from typing import List, Optional\n",
    "\n",
    "import fire\n",
    "\n",
    "from llama import Dialog, Llama\n",
    "import torch.distributed as dist\n",
    "import torch\n",
    "import os\n",
    "from data_casual import output_list_train, input_list_train"
   ]
  },
  {
   "cell_type": "code",
   "execution_count": 13,
   "metadata": {},
   "outputs": [],
   "source": [
    "from data_casual import instruction_data_point"
   ]
  },
  {
   "cell_type": "code",
   "execution_count": 14,
   "metadata": {},
   "outputs": [],
   "source": [
    "\n",
    "from llama.model import ModelArgs, Transformer\n",
    "from llama.tokenizer import ChatFormat, Dialog, Message, Tokenizer"
   ]
  },
  {
   "cell_type": "code",
   "execution_count": 15,
   "metadata": {},
   "outputs": [],
   "source": [
    "import json\n",
    "import os\n",
    "import sys\n",
    "import time\n",
    "from pathlib import Path\n",
    "from typing import List, Optional, Tuple, TypedDict\n",
    "\n",
    "import torch\n",
    "import torch.nn.functional as F\n",
    "from fairscale.nn.model_parallel.initialize import (\n",
    "    get_model_parallel_rank,\n",
    "    initialize_model_parallel,\n",
    "    model_parallel_is_initialized,\n",
    ")"
   ]
  },
  {
   "cell_type": "code",
   "execution_count": 5,
   "metadata": {},
   "outputs": [
    {
     "name": "stdout",
     "output_type": "stream",
     "text": [
      "> initializing model parallel with size 1\n",
      "> initializing ddp with size 1\n"
     ]
    },
    {
     "name": "stdout",
     "output_type": "stream",
     "text": [
      "> initializing pipeline with size 1\n"
     ]
    },
    {
     "name": "stderr",
     "output_type": "stream",
     "text": [
      "c:\\Users\\Ribbe\\Coding\\VSC\\FU_Berlin\\Actual_Work\\llama3\\llama\\generation.py:98: FutureWarning: You are using `torch.load` with `weights_only=False` (the current default value), which uses the default pickle module implicitly. It is possible to construct malicious pickle data which will execute arbitrary code during unpickling (See https://github.com/pytorch/pytorch/blob/main/SECURITY.md#untrusted-models for more details). In a future release, the default value for `weights_only` will be flipped to `True`. This limits the functions that could be executed during unpickling. Arbitrary objects will no longer be allowed to be loaded via this mode unless they are explicitly allowlisted by the user via `torch.serialization.add_safe_globals`. We recommend you start setting `weights_only=True` for any use case where you don't have full control of the loaded file. Please open an issue on GitHub for any issues related to this experimental feature.\n",
      "  checkpoint = torch.load(ckpt_path, map_location=\"cpu\")\n",
      "c:\\Users\\Ribbe\\Coding\\VSC\\Coding_venv\\Lib\\site-packages\\torch\\__init__.py:1144: UserWarning: torch.set_default_tensor_type() is deprecated as of PyTorch 2.1, please use torch.set_default_dtype() and torch.set_default_device() as alternatives. (Triggered internally at C:\\actions-runner\\_work\\pytorch\\pytorch\\builder\\windows\\pytorch\\torch\\csrc\\tensor\\python_tensor.cpp:434.)\n",
      "  _C._set_default_tensor_type(t)\n"
     ]
    },
    {
     "name": "stdout",
     "output_type": "stream",
     "text": [
      "Loaded in 120.28 seconds\n"
     ]
    }
   ],
   "source": [
    "generator = Llama.build(\"./\", \"./tokenizer.model\",max_seq_len= 2500,max_batch_size= 4, activation=True, activation_layer=28)"
   ]
  },
  {
   "cell_type": "code",
   "execution_count": 6,
   "metadata": {},
   "outputs": [],
   "source": [
    "ckpt_dir = \"./\"\n",
    "tokenizer_path = \"./tokenizer.model\"\n",
    "temperature = 0.6\n",
    "top_p = 0.9\n",
    "max_seq_len = 1024\n",
    "max_batch_size = 4\n",
    "max_gen_len= generator.model.params.max_seq_len - 1\n"
   ]
  },
  {
   "cell_type": "code",
   "execution_count": 7,
   "metadata": {},
   "outputs": [],
   "source": [
    "def sample_top_p(probs, p):\n",
    "    \"\"\"\n",
    "    Perform top-p (nucleus) sampling on a probability distribution.\n",
    "\n",
    "    Args:\n",
    "        probs (torch.Tensor): Probability distribution tensor.\n",
    "        p (float): Probability threshold for top-p sampling.\n",
    "\n",
    "    Returns:\n",
    "        torch.Tensor: Sampled token indices.\n",
    "\n",
    "    Note:\n",
    "        Top-p sampling selects the smallest set of tokens whose cumulative probability mass\n",
    "        exceeds the threshold p. The distribution is renormalized based on the selected tokens.\n",
    "    \"\"\"\n",
    "    probs_sort, probs_idx = torch.sort(probs, dim=-1, descending=True)\n",
    "    probs_sum = torch.cumsum(probs_sort, dim=-1)\n",
    "    mask = probs_sum - probs_sort > p\n",
    "    probs_sort[mask] = 0.0\n",
    "    probs_sort.div_(probs_sort.sum(dim=-1, keepdim=True))\n",
    "    next_token = torch.multinomial(probs_sort, num_samples=1)\n",
    "    next_token = torch.gather(probs_idx, -1, next_token)\n",
    "    return next_token"
   ]
  },
  {
   "cell_type": "code",
   "execution_count": 8,
   "metadata": {},
   "outputs": [],
   "source": [
    "prompt_tokens = [generator.formatter.encode_dialog_prompt(input_list_train[1142])]"
   ]
  },
  {
   "cell_type": "code",
   "execution_count": 9,
   "metadata": {},
   "outputs": [
    {
     "data": {
      "text/plain": [
       "205734"
      ]
     },
     "execution_count": 9,
     "metadata": {},
     "output_type": "execute_result"
    }
   ],
   "source": [
    "n = len(input_list_train)\n",
    "n"
   ]
  },
  {
   "cell_type": "code",
   "execution_count": 10,
   "metadata": {},
   "outputs": [],
   "source": [
    "value, activ = generator.chat_completion(instruction_data_point,\n",
    "                                               max_gen_len=max_gen_len,\n",
    "                                               top_p=top_p,\n",
    "                                               temperature=temperature)"
   ]
  },
  {
   "cell_type": "code",
   "execution_count": null,
   "metadata": {},
   "outputs": [
    {
     "data": {
      "text/plain": [
       "[tensor([-0.2812,  0.1436,  0.1602,  ..., -0.1445,  0.0107,  0.0918]),\n",
       " tensor([ 0.3418,  0.7930, -0.4766,  ...,  0.0840, -0.0215, -0.5859])]"
      ]
     },
     "execution_count": 14,
     "metadata": {},
     "output_type": "execute_result"
    }
   ],
   "source": []
  },
  {
   "cell_type": "code",
   "execution_count": 13,
   "metadata": {},
   "outputs": [
    {
     "name": "stdout",
     "output_type": "stream",
     "text": [
      "tensor([0., 0., 0.,  ..., 0., 0., 0.])\n",
      "tensor([ 0.0006,  0.0027,  0.0006,  ..., -0.0022, -0.0011, -0.0001])\n",
      "tensor(0.5859)\n",
      "tensor([0., 0., 0.,  ..., 0., 0., 0.])\n",
      "tensor([-0.0011,  0.0017, -0.0022,  ..., -0.0014,  0.0004,  0.0023])\n",
      "tensor(9.0625)\n",
      "tensor([0., 0., 0.,  ..., 0., 0., 0.])\n",
      "tensor([-0.0083, -0.0004,  0.0008,  ..., -0.0027, -0.0021,  0.0044])\n",
      "tensor(9.0625)\n",
      "tensor([0., 0., 0.,  ..., 0., 0., 0.])\n",
      "tensor([-0.0095,  0.0020,  0.0025,  ..., -0.0192, -0.0013,  0.0043])\n",
      "tensor(9.1250)\n",
      "tensor([0., 0., 0.,  ..., 0., 0., 0.])\n",
      "tensor([-0.0141,  0.0256,  0.0139,  ...,  0.0056, -0.0088,  0.0170])\n",
      "tensor(9.1875)\n",
      "tensor([0., 0., 0.,  ..., 0., 0., 0.])\n",
      "tensor([-0.0023,  0.0294, -0.0123,  ..., -0.0232, -0.0019,  0.0211])\n",
      "tensor(9.2500)\n",
      "tensor([0., 0., 0.,  ..., 0., 0., 0.])\n",
      "tensor([-0.0303,  0.0466, -0.0175,  ...,  0.0085,  0.0036,  0.0020])\n",
      "tensor(9.3750)\n",
      "tensor([0., 0., 0.,  ..., 0., 0., 0.])\n",
      "tensor([-0.0255,  0.0221, -0.0086,  ..., -0.0058,  0.0067,  0.0048])\n",
      "tensor(9.3750)\n",
      "tensor([0., 0., 0.,  ..., 0., 0., 0.])\n",
      "tensor([-0.0209, -0.0082,  0.0067,  ...,  0.0064, -0.0103, -0.0140])\n",
      "tensor(9.3750)\n",
      "tensor([0., 0., 0.,  ..., 0., 0., 0.])\n",
      "tensor([-0.0026,  0.0327, -0.0067,  ..., -0.0042, -0.0176,  0.0264])\n",
      "tensor(9.5000)\n",
      "tensor([0., 0., 0.,  ..., 0., 0., 0.])\n",
      "tensor([-0.0231,  0.0393,  0.0039,  ..., -0.0294, -0.0330,  0.0327])\n",
      "tensor(9.5625)\n",
      "tensor([0., 0., 0.,  ..., 0., 0., 0.])\n",
      "tensor([-0.0013,  0.0613, -0.0236,  ..., -0.0315, -0.0029,  0.0415])\n",
      "tensor(9.5625)\n",
      "tensor([0., 0., 0.,  ..., 0., 0., 0.])\n",
      "tensor([-0.0388,  0.0422, -0.0055,  ..., -0.0135, -0.0442,  0.0515])\n",
      "tensor(9.7500)\n",
      "tensor([0., 0., 0.,  ..., 0., 0., 0.])\n",
      "tensor([-0.0087,  0.0110, -0.0170,  ..., -0.0466, -0.0605,  0.0825])\n",
      "tensor(9.8125)\n",
      "tensor([0., 0., 0.,  ..., 0., 0., 0.])\n",
      "tensor([-0.0096, -0.0233, -0.0496,  ..., -0.0369, -0.0781,  0.0640])\n",
      "tensor(9.8125)\n",
      "tensor([0., 0., 0.,  ..., 0., 0., 0.])\n",
      "tensor([-0.0110, -0.0147, -0.0076,  ..., -0.0068, -0.0583,  0.0654])\n",
      "tensor(9.8750)\n",
      "tensor([0., 0., 0.,  ..., 0., 0., 0.])\n",
      "tensor([ 0.0557, -0.0106, -0.0080,  ...,  0.0179, -0.0684,  0.0366])\n",
      "tensor(10.1250)\n",
      "tensor([0., 0., 0.,  ..., 0., 0., 0.])\n",
      "tensor([ 0.0267, -0.0292, -0.0055,  ...,  0.0288, -0.0698,  0.0017])\n",
      "tensor(10.3125)\n",
      "tensor([0., 0., 0.,  ..., 0., 0., 0.])\n",
      "tensor([-0.0157,  0.0008,  0.0170,  ...,  0.0282, -0.0654,  0.0762])\n",
      "tensor(10.8125)\n",
      "tensor([0., 0., 0.,  ..., 0., 0., 0.])\n",
      "tensor([-0.0133,  0.0255,  0.0050,  ...,  0.0140, -0.0364,  0.0449])\n",
      "tensor(11.)\n",
      "tensor([0., 0., 0.,  ..., 0., 0., 0.])\n",
      "tensor([-3.0518e-04,  6.1279e-02, -2.1935e-05,  ..., -3.1853e-04,\n",
      "        -4.9805e-02,  3.4912e-02])\n",
      "tensor(11.1875)\n",
      "tensor([0., 0., 0.,  ..., 0., 0., 0.])\n",
      "tensor([-0.0442,  0.0884,  0.0179,  ..., -0.0479, -0.0613,  0.0281])\n",
      "tensor(11.5625)\n",
      "tensor([0., 0., 0.,  ..., 0., 0., 0.])\n",
      "tensor([-0.0393,  0.1128,  0.0437,  ..., -0.0659, -0.1318,  0.0258])\n",
      "tensor(12.0625)\n",
      "tensor([0., 0., 0.,  ..., 0., 0., 0.])\n",
      "tensor([-0.0221,  0.1221,  0.0049,  ..., -0.0588, -0.1465,  0.0381])\n",
      "tensor(12.7500)\n",
      "tensor([0., 0., 0.,  ..., 0., 0., 0.])\n",
      "tensor([-0.0557,  0.1396,  0.0615,  ..., -0.0515, -0.1592,  0.0542])\n",
      "tensor(13.5000)\n",
      "tensor([0., 0., 0.,  ..., 0., 0., 0.])\n",
      "tensor([-0.1406,  0.1152,  0.0977,  ..., -0.0933, -0.1572,  0.0540])\n",
      "tensor(14.3125)\n",
      "tensor([0., 0., 0.,  ..., 0., 0., 0.])\n",
      "tensor([-0.1729,  0.1309,  0.0933,  ..., -0.0491, -0.1226,  0.0491])\n",
      "tensor(15.1250)\n",
      "tensor([0., 0., 0.,  ..., 0., 0., 0.])\n",
      "tensor([-0.1523,  0.1572,  0.1021,  ..., -0.1128, -0.0972,  0.1030])\n",
      "tensor(16.3750)\n",
      "tensor([0., 0., 0.,  ..., 0., 0., 0.])\n",
      "tensor([-0.2812,  0.1436,  0.1592,  ..., -0.1455,  0.0107,  0.0923])\n",
      "tensor(18.)\n",
      "tensor([0., 0., 0.,  ..., 0., 0., 0.])\n",
      "tensor([-0.1426,  0.0510,  0.1475,  ..., -0.1748, -0.0591,  0.1572])\n",
      "tensor(20.1250)\n",
      "tensor([0., 0., 0.,  ..., 0., 0., 0.])\n",
      "tensor([-0.2051, -0.0859,  0.1465,  ..., -0.3340, -0.0393, -0.1846])\n",
      "tensor(21.8750)\n",
      "tensor([0., 0., 0.,  ..., 0., 0., 0.])\n",
      "tensor([-0.3301,  0.2656,  0.3301,  ..., -0.0104,  0.0364,  0.0320])\n",
      "tensor(18.7500)\n"
     ]
    }
   ],
   "source": [
    "n=10\n",
    "for i in range(len(generator.model.layers)):\n",
    "    instruction_vector = torch.tensor(4096*[0.0])\n",
    "    generator.change_activation_layer(i)\n",
    "    print(instruction_vector)\n",
    "    for k in range(n):\n",
    "        value_instruct, activation_instruct = generator.chat_completion(instruction_data_point,\n",
    "                                               max_gen_len=max_gen_len,\n",
    "                                               top_p=top_p,\n",
    "                                               temperature=temperature)\n",
    "        instruction_vector += 1/n*activation_instruct[0]    \n",
    "    print(instruction_vector)\n",
    "    print(torch.norm(instruction_vector))\n",
    "    torch.save(instruction_vector, f\"./steering_vectors/instruct_vector{i}.pt\")\n"
   ]
  },
  {
   "cell_type": "code",
   "execution_count": 19,
   "metadata": {},
   "outputs": [
    {
     "name": "stdout",
     "output_type": "stream",
     "text": [
      "tensor([0., 0., 0.,  ..., 0., 0., 0.])\n",
      "tensor([ 0.0015, -0.0022,  0.0019,  ..., -0.0074,  0.0022,  0.0006])\n",
      "tensor(0.5273)\n",
      "tensor([0., 0., 0.,  ..., 0., 0., 0.])\n",
      "tensor([ 0.0063,  0.0036, -0.0003,  ..., -0.0166, -0.0051, -0.0015])\n",
      "tensor(2.3750)\n",
      "tensor([0., 0., 0.,  ..., 0., 0., 0.])\n",
      "tensor([ 1.4038e-03, -6.7139e-04,  9.1791e-06,  ..., -1.5747e-02,\n",
      "        -6.5002e-03, -9.8267e-03])\n",
      "tensor(2.5156)\n",
      "tensor([0., 0., 0.,  ..., 0., 0., 0.])\n",
      "tensor([-0.0123,  0.0014,  0.0009,  ..., -0.0011, -0.0134, -0.0076])\n",
      "tensor(2.7031)\n",
      "tensor([0., 0., 0.,  ..., 0., 0., 0.])\n",
      "tensor([-0.0114,  0.0176,  0.0003,  ...,  0.0090, -0.0294, -0.0039])\n",
      "tensor(2.8594)\n",
      "tensor([0., 0., 0.,  ..., 0., 0., 0.])\n",
      "tensor([ 0.0184,  0.0038,  0.0011,  ...,  0.0002, -0.0249,  0.0204])\n",
      "tensor(3.0781)\n",
      "tensor([0., 0., 0.,  ..., 0., 0., 0.])\n",
      "tensor([ 0.0109,  0.0096,  0.0024,  ...,  0.0265, -0.0284,  0.0074])\n",
      "tensor(3.2188)\n",
      "tensor([0., 0., 0.,  ..., 0., 0., 0.])\n",
      "tensor([-0.0031,  0.0064, -0.0060,  ...,  0.0192, -0.0045,  0.0039])\n",
      "tensor(3.4062)\n",
      "tensor([0., 0., 0.,  ..., 0., 0., 0.])\n",
      "tensor([-0.0240, -0.0123,  0.0032,  ...,  0.0344, -0.0203,  0.0159])\n",
      "tensor(3.5312)\n",
      "tensor([0., 0., 0.,  ..., 0., 0., 0.])\n",
      "tensor([-0.0459, -0.0016, -0.0325,  ..., -0.0007, -0.0121,  0.0342])\n",
      "tensor(3.7656)\n",
      "tensor([0., 0., 0.,  ..., 0., 0., 0.])\n",
      "tensor([-0.0435, -0.0063, -0.0309,  ..., -0.0292, -0.0256,  0.0275])\n",
      "tensor(3.8281)\n",
      "tensor([0., 0., 0.,  ..., 0., 0., 0.])\n",
      "tensor([-0.0110,  0.0359, -0.0311,  ..., -0.0223, -0.0160,  0.0165])\n",
      "tensor(3.9688)\n",
      "tensor([0., 0., 0.,  ..., 0., 0., 0.])\n",
      "tensor([-0.0381, -0.0210, -0.0069,  ..., -0.0244, -0.0540,  0.0476])\n",
      "tensor(4.4688)\n",
      "tensor([0., 0., 0.,  ..., 0., 0., 0.])\n",
      "tensor([-0.0047, -0.0124, -0.0209,  ..., -0.0640, -0.0503,  0.0718])\n",
      "tensor(4.7188)\n",
      "tensor([0., 0., 0.,  ..., 0., 0., 0.])\n",
      "tensor([-0.0167, -0.0178, -0.0238,  ..., -0.0527, -0.0576,  0.0640])\n",
      "tensor(4.7188)\n",
      "tensor([0., 0., 0.,  ..., 0., 0., 0.])\n",
      "tensor([-0.0154, -0.0211, -0.0022,  ..., -0.0339, -0.0459,  0.0830])\n",
      "tensor(5.3438)\n",
      "tensor([0., 0., 0.,  ..., 0., 0., 0.])\n",
      "tensor([ 0.0088,  0.0033, -0.0048,  ..., -0.0106, -0.0410,  0.0498])\n",
      "tensor(6.2188)\n",
      "tensor([0., 0., 0.,  ..., 0., 0., 0.])\n",
      "tensor([-0.0155, -0.0139, -0.0299,  ..., -0.0236, -0.0510,  0.0374])\n",
      "tensor(6.8750)\n",
      "tensor([0., 0., 0.,  ..., 0., 0., 0.])\n",
      "tensor([-0.0317, -0.0054, -0.0420,  ..., -0.0630, -0.0280,  0.0605])\n",
      "tensor(7.8125)\n",
      "tensor([0., 0., 0.,  ..., 0., 0., 0.])\n",
      "tensor([-0.0515, -0.0277, -0.0311,  ..., -0.0457, -0.0212,  0.0303])\n",
      "tensor(8.5625)\n",
      "tensor([0., 0., 0.,  ..., 0., 0., 0.])\n",
      "tensor([-0.0530, -0.0103, -0.0854,  ..., -0.0413,  0.0020,  0.0481])\n",
      "tensor(8.8750)\n",
      "tensor([0., 0., 0.,  ..., 0., 0., 0.])\n",
      "tensor([-0.1099,  0.0176, -0.0796,  ..., -0.0576,  0.0003,  0.0420])\n",
      "tensor(10.0625)\n",
      "tensor([0., 0., 0.,  ..., 0., 0., 0.])\n",
      "tensor([-0.1055, -0.0009, -0.0520,  ..., -0.0806, -0.0210,  0.0349])\n",
      "tensor(11.4375)\n",
      "tensor([0., 0., 0.,  ..., 0., 0., 0.])\n",
      "tensor([-0.1099,  0.0077, -0.0374,  ..., -0.0874, -0.0825,  0.0364])\n",
      "tensor(13.0625)\n",
      "tensor([0., 0., 0.,  ..., 0., 0., 0.])\n",
      "tensor([-0.1245,  0.0369, -0.0442,  ..., -0.0598, -0.0481,  0.0693])\n",
      "tensor(14.3750)\n",
      "tensor([0., 0., 0.,  ..., 0., 0., 0.])\n",
      "tensor([-0.2324,  0.0210, -0.0141,  ..., -0.0669, -0.0669,  0.0459])\n",
      "tensor(15.8125)\n",
      "tensor([0., 0., 0.,  ..., 0., 0., 0.])\n",
      "tensor([-0.2578,  0.0513, -0.0129,  ..., -0.0255, -0.0337,  0.0469])\n",
      "tensor(18.)\n",
      "tensor([0., 0., 0.,  ..., 0., 0., 0.])\n",
      "tensor([-0.2227,  0.0659, -0.0278,  ..., -0.1104,  0.0284,  0.1187])\n",
      "tensor(19.7500)\n",
      "tensor([0., 0., 0.,  ..., 0., 0., 0.])\n",
      "tensor([-0.3555,  0.0143, -0.0087,  ..., -0.1143,  0.1113,  0.1523])\n",
      "tensor(22.3750)\n",
      "tensor([0., 0., 0.,  ..., 0., 0., 0.])\n",
      "tensor([-0.1807, -0.1387, -0.0481,  ..., -0.0864, -0.0854,  0.2676])\n",
      "tensor(24.5000)\n",
      "tensor([0., 0., 0.,  ..., 0., 0., 0.])\n",
      "tensor([-0.2734, -0.1777, -0.0923,  ..., -0.2344, -0.0586, -0.2314])\n",
      "tensor(28.2500)\n",
      "tensor([0., 0., 0.,  ..., 0., 0., 0.])\n",
      "tensor([-0.4336,  0.5273,  0.6211,  ...,  0.1631, -0.1035, -0.1816])\n",
      "tensor(33.5000)\n"
     ]
    }
   ],
   "source": [
    "n=1\n",
    "for i in range(len(generator.model.layers)):\n",
    "    instruction_vector = torch.tensor(4096*[0.0])\n",
    "    generator.change_activation_layer(i)\n",
    "    print(instruction_vector)\n",
    "    for k in range(n):\n",
    "        value_instruct, activation_instruct = generator.chat_completion([input_list_train[1142]],\n",
    "                                               max_gen_len=max_gen_len,\n",
    "                                               top_p=top_p,\n",
    "                                               temperature=temperature)\n",
    "        instruction_vector += 1/n*activation_instruct[0]    \n",
    "    print(instruction_vector)\n",
    "    print(torch.norm(instruction_vector))"
   ]
  },
  {
   "cell_type": "code",
   "execution_count": 22,
   "metadata": {},
   "outputs": [
    {
     "name": "stderr",
     "output_type": "stream",
     "text": [
      "C:\\Users\\Ribbe\\AppData\\Local\\Temp\\ipykernel_78700\\3943913927.py:5: FutureWarning: You are using `torch.load` with `weights_only=False` (the current default value), which uses the default pickle module implicitly. It is possible to construct malicious pickle data which will execute arbitrary code during unpickling (See https://github.com/pytorch/pytorch/blob/main/SECURITY.md#untrusted-models for more details). In a future release, the default value for `weights_only` will be flipped to `True`. This limits the functions that could be executed during unpickling. Arbitrary objects will no longer be allowed to be loaded via this mode unless they are explicitly allowlisted by the user via `torch.serialization.add_safe_globals`. We recommend you start setting `weights_only=True` for any use case where you don't have full control of the loaded file. Please open an issue on GitHub for any issues related to this experimental feature.\n",
      "  instruct_vec = torch.load(f\"./steering_vectors/instruct_vector{28}.pt\")\n"
     ]
    }
   ],
   "source": [
    "generator.change_activation_layer(28)\n",
    "neg_activation_vector_dic = {}\n",
    "pos_activation_vector_dic = {}\n",
    "loss = 0\n",
    "instruct_vec = torch.load(f\"./steering_vectors/instruct_vector{28}.pt\")\n",
    "for i in range(5):\n",
    "    value, activation_vec_list = generator.chat_completion([input_list_train[i]],\n",
    "                                       max_gen_len=max_gen_len,\n",
    "                                       top_p=top_p,\n",
    "                                       temperature=temperature)\n",
    "    value_numerical = \"1\" if value[0][\"generation\"][\"content\"] == \"T\" else 0\n",
    "    activation_vector = activation_vec_list[0] - instruct_vec\n",
    "    if value_numerical == output_list_train[i]:\n",
    "        pos_activation_vector_dic[i] = activation_vec_list[0] \n",
    "    else :\n",
    "        neg_activation_vector_dic[i] = activation_vec_list[0]\n",
    "        loss += 1/1000\n"
   ]
  },
  {
   "cell_type": "code",
   "execution_count": 10,
   "metadata": {},
   "outputs": [],
   "source": [
    "pos_vec_sum = torch.zeros([len(neg_activation_vector_dic[1])])\n",
    "for ind, item in pos_activation_vector_dic.items():\n",
    "    pos_vec_sum += 1/len(pos_activation_vector_dic)*item\n",
    "\n",
    "\n",
    "neg_vec_sum = torch.zeros([len(neg_activation_vector_dic[1])])\n",
    "for ind, item in neg_activation_vector_dic.items():\n",
    "    neg_vec_sum += 1/len(neg_activation_vector_dic)*item\n",
    "\n",
    "steering_vector = pos_vec_sum-neg_vec_sum\n"
   ]
  },
  {
   "cell_type": "code",
   "execution_count": 11,
   "metadata": {},
   "outputs": [
    {
     "name": "stdout",
     "output_type": "stream",
     "text": [
      "tensor([-0.2949,  0.0142, -0.0035,  ..., -0.1094,  0.0864,  0.1484])\n"
     ]
    }
   ],
   "source": [
    "print(steering_vector)"
   ]
  },
  {
   "cell_type": "code",
   "execution_count": 12,
   "metadata": {},
   "outputs": [],
   "source": [
    "torch.save(steering_vector, \"./steering_vector_layer28.pt\")"
   ]
  },
  {
   "cell_type": "code",
   "execution_count": 1,
   "metadata": {},
   "outputs": [],
   "source": [
    "import torch"
   ]
  },
  {
   "cell_type": "code",
   "execution_count": 28,
   "metadata": {},
   "outputs": [
    {
     "name": "stderr",
     "output_type": "stream",
     "text": [
      "C:\\Users\\Ribbe\\AppData\\Local\\Temp\\ipykernel_81916\\3186958420.py:1: FutureWarning: You are using `torch.load` with `weights_only=False` (the current default value), which uses the default pickle module implicitly. It is possible to construct malicious pickle data which will execute arbitrary code during unpickling (See https://github.com/pytorch/pytorch/blob/main/SECURITY.md#untrusted-models for more details). In a future release, the default value for `weights_only` will be flipped to `True`. This limits the functions that could be executed during unpickling. Arbitrary objects will no longer be allowed to be loaded via this mode unless they are explicitly allowlisted by the user via `torch.serialization.add_safe_globals`. We recommend you start setting `weights_only=True` for any use case where you don't have full control of the loaded file. Please open an issue on GitHub for any issues related to this experimental feature.\n",
      "  vec = torch.load(\"./steering_without_instruct/vector24.pt\")\n"
     ]
    }
   ],
   "source": [
    "vec = torch.load(\"./steering_without_instruct/vector24.pt\")"
   ]
  },
  {
   "cell_type": "code",
   "execution_count": 19,
   "metadata": {},
   "outputs": [
    {
     "data": {
      "text/plain": [
       "tensor(7.0938, device='cuda:0', dtype=torch.bfloat16)"
      ]
     },
     "execution_count": 19,
     "metadata": {},
     "output_type": "execute_result"
    }
   ],
   "source": [
    "torch.norm(vec)"
   ]
  },
  {
   "cell_type": "code",
   "execution_count": 20,
   "metadata": {},
   "outputs": [],
   "source": [
    "vec = torch.nn.functional.normalize(vec, dim=0)"
   ]
  },
  {
   "cell_type": "code",
   "execution_count": 23,
   "metadata": {},
   "outputs": [
    {
     "data": {
      "text/plain": [
       "tensor(1., device='cuda:0', dtype=torch.bfloat16)"
      ]
     },
     "execution_count": 23,
     "metadata": {},
     "output_type": "execute_result"
    }
   ],
   "source": [
    "torch.norm(vec)"
   ]
  },
  {
   "cell_type": "code",
   "execution_count": 29,
   "metadata": {},
   "outputs": [
    {
     "data": {
      "text/plain": [
       "tensor(-0.0008, device='cuda:0', dtype=torch.bfloat16)"
      ]
     },
     "execution_count": 29,
     "metadata": {},
     "output_type": "execute_result"
    }
   ],
   "source": [
    "torch.mean(vec)"
   ]
  },
  {
   "cell_type": "code",
   "execution_count": null,
   "metadata": {},
   "outputs": [],
   "source": [
    "for k in range(32):\n",
    "    vec = "
   ]
  }
 ],
 "metadata": {
  "kernelspec": {
   "display_name": "Coding_venv",
   "language": "python",
   "name": "python3"
  },
  "language_info": {
   "codemirror_mode": {
    "name": "ipython",
    "version": 3
   },
   "file_extension": ".py",
   "mimetype": "text/x-python",
   "name": "python",
   "nbconvert_exporter": "python",
   "pygments_lexer": "ipython3",
   "version": "3.11.8"
  }
 },
 "nbformat": 4,
 "nbformat_minor": 2
}
