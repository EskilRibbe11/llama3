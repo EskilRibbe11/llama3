{
 "cells": [
  {
   "cell_type": "code",
   "execution_count": 1,
   "metadata": {},
   "outputs": [],
   "source": [
    "from typing import List, Optional\n",
    "\n",
    "import fire\n",
    "\n",
    "from llama import Dialog, Llama\n",
    "import torch.distributed as dist\n",
    "import torch\n",
    "import os\n",
    "from data_casual import output_list_train, input_list_train"
   ]
  },
  {
   "cell_type": "code",
   "execution_count": 2,
   "metadata": {},
   "outputs": [],
   "source": [
    "from data_casual import instruction_data_point"
   ]
  },
  {
   "cell_type": "code",
   "execution_count": 3,
   "metadata": {},
   "outputs": [],
   "source": [
    "\n",
    "from llama.model import ModelArgs, Transformer\n",
    "from llama.tokenizer import ChatFormat, Dialog, Message, Tokenizer"
   ]
  },
  {
   "cell_type": "code",
   "execution_count": 4,
   "metadata": {},
   "outputs": [],
   "source": [
    "import json\n",
    "import os\n",
    "import sys\n",
    "import time\n",
    "from pathlib import Path\n",
    "from typing import List, Optional, Tuple, TypedDict\n",
    "\n",
    "import torch\n",
    "import torch.nn.functional as F\n",
    "from fairscale.nn.model_parallel.initialize import (\n",
    "    get_model_parallel_rank,\n",
    "    initialize_model_parallel,\n",
    "    model_parallel_is_initialized,\n",
    ")"
   ]
  },
  {
   "cell_type": "code",
   "execution_count": 5,
   "metadata": {},
   "outputs": [
    {
     "name": "stdout",
     "output_type": "stream",
     "text": [
      "> initializing model parallel with size 1"
     ]
    },
    {
     "name": "stdout",
     "output_type": "stream",
     "text": [
      "\n",
      "> initializing ddp with size 1\n",
      "> initializing pipeline with size 1\n"
     ]
    },
    {
     "name": "stderr",
     "output_type": "stream",
     "text": [
      "c:\\Users\\Ribbe\\Coding\\VSC\\FU_Berlin\\Actual_Work\\llama3\\llama\\generation.py:98: FutureWarning: You are using `torch.load` with `weights_only=False` (the current default value), which uses the default pickle module implicitly. It is possible to construct malicious pickle data which will execute arbitrary code during unpickling (See https://github.com/pytorch/pytorch/blob/main/SECURITY.md#untrusted-models for more details). In a future release, the default value for `weights_only` will be flipped to `True`. This limits the functions that could be executed during unpickling. Arbitrary objects will no longer be allowed to be loaded via this mode unless they are explicitly allowlisted by the user via `torch.serialization.add_safe_globals`. We recommend you start setting `weights_only=True` for any use case where you don't have full control of the loaded file. Please open an issue on GitHub for any issues related to this experimental feature.\n",
      "  checkpoint = torch.load(ckpt_path, map_location=\"cpu\")\n",
      "c:\\Users\\Ribbe\\Coding\\VSC\\Coding_venv\\Lib\\site-packages\\torch\\__init__.py:1144: UserWarning: torch.set_default_tensor_type() is deprecated as of PyTorch 2.1, please use torch.set_default_dtype() and torch.set_default_device() as alternatives. (Triggered internally at C:\\actions-runner\\_work\\pytorch\\pytorch\\builder\\windows\\pytorch\\torch\\csrc\\tensor\\python_tensor.cpp:434.)\n",
      "  _C._set_default_tensor_type(t)\n"
     ]
    },
    {
     "name": "stdout",
     "output_type": "stream",
     "text": [
      "Loaded in 116.72 seconds\n"
     ]
    }
   ],
   "source": [
    "generator = Llama.build(\"./\", \"./tokenizer.model\",max_seq_len= 2500,max_batch_size= 4, activation=True, activation_layer=28)"
   ]
  },
  {
   "cell_type": "code",
   "execution_count": 6,
   "metadata": {},
   "outputs": [],
   "source": [
    "ckpt_dir = \"./\"\n",
    "tokenizer_path = \"./tokenizer.model\"\n",
    "temperature = 0.6\n",
    "top_p = 0.9\n",
    "max_seq_len = 1024\n",
    "max_batch_size = 4\n",
    "max_gen_len= generator.model.params.max_seq_len - 1\n"
   ]
  },
  {
   "cell_type": "code",
   "execution_count": 7,
   "metadata": {},
   "outputs": [],
   "source": [
    "def sample_top_p(probs, p):\n",
    "    \"\"\"\n",
    "    Perform top-p (nucleus) sampling on a probability distribution.\n",
    "\n",
    "    Args:\n",
    "        probs (torch.Tensor): Probability distribution tensor.\n",
    "        p (float): Probability threshold for top-p sampling.\n",
    "\n",
    "    Returns:\n",
    "        torch.Tensor: Sampled token indices.\n",
    "\n",
    "    Note:\n",
    "        Top-p sampling selects the smallest set of tokens whose cumulative probability mass\n",
    "        exceeds the threshold p. The distribution is renormalized based on the selected tokens.\n",
    "    \"\"\"\n",
    "    probs_sort, probs_idx = torch.sort(probs, dim=-1, descending=True)\n",
    "    probs_sum = torch.cumsum(probs_sort, dim=-1)\n",
    "    mask = probs_sum - probs_sort > p\n",
    "    probs_sort[mask] = 0.0\n",
    "    probs_sort.div_(probs_sort.sum(dim=-1, keepdim=True))\n",
    "    next_token = torch.multinomial(probs_sort, num_samples=1)\n",
    "    next_token = torch.gather(probs_idx, -1, next_token)\n",
    "    return next_token"
   ]
  },
  {
   "cell_type": "code",
   "execution_count": 8,
   "metadata": {},
   "outputs": [],
   "source": [
    "prompt_tokens = [generator.formatter.encode_dialog_prompt(input_list_train[1142])]"
   ]
  },
  {
   "cell_type": "code",
   "execution_count": 9,
   "metadata": {},
   "outputs": [
    {
     "data": {
      "text/plain": [
       "205734"
      ]
     },
     "execution_count": 9,
     "metadata": {},
     "output_type": "execute_result"
    }
   ],
   "source": [
    "n = len(input_list_train)\n",
    "n"
   ]
  },
  {
   "cell_type": "code",
   "execution_count": 10,
   "metadata": {},
   "outputs": [
    {
     "name": "stdout",
     "output_type": "stream",
     "text": [
      "torch.Size([1, 188, 4096])\n",
      "tensor([[[-0.0664,  0.1074, -0.0164,  ...,  0.3164,  0.3828,  0.1367],\n",
      "         [ 0.7188,  0.0303,  0.1816,  ..., -0.1377,  0.0913, -0.1455],\n",
      "         [ 0.3711,  0.4609,  0.2871,  ...,  0.2412,  0.6094, -0.5234],\n",
      "         ...,\n",
      "         [ 0.0449,  0.3086,  0.0752,  ...,  0.1602,  0.4258,  0.4023],\n",
      "         [-0.6719,  0.5000,  0.2090,  ..., -0.0571,  0.0986, -0.1875],\n",
      "         [-0.5078,  0.5781,  0.1973,  ..., -0.2012, -0.1934,  0.1367]]])\n",
      "torch.Size([1, 1, 4096])\n",
      "tensor([[[ 0.2012,  0.8516, -0.1660,  ...,  0.2002,  0.1211, -0.4570]]])\n"
     ]
    }
   ],
   "source": [
    "neg_activation_vector_dic = {}\n",
    "pos_activation_vector_dic = {}\n",
    "loss = 0\n",
    "for i in range(1):\n",
    "    value, activation_vec_list = generator.chat_completion([input_list_train[i]],\n",
    "                                       max_gen_len=max_gen_len,\n",
    "                                       top_p=top_p,\n",
    "                                       temperature=temperature)\n",
    "    value_numerical = \"1\" if value[0][\"generation\"][\"content\"] == \"T\" else 0\n",
    "    if value_numerical == output_list_train[i]:\n",
    "        pos_activation_vector_dic[i] = activation_vec_list[0] \n",
    "    else :\n",
    "        neg_activation_vector_dic[i] = activation_vec_list[0]\n",
    "        loss += 1/len(input_list_train)\n"
   ]
  },
  {
   "cell_type": "code",
   "execution_count": 11,
   "metadata": {},
   "outputs": [
    {
     "name": "stdout",
     "output_type": "stream",
     "text": [
      "torch.Size([1, 58, 4096])\n",
      "tensor([[[-0.0664,  0.1108, -0.0151,  ...,  0.3164,  0.3770,  0.1367],\n",
      "         [ 0.7227,  0.0322,  0.1895,  ..., -0.1309,  0.0898, -0.1416],\n",
      "         [ 0.3770,  0.4551,  0.2871,  ...,  0.2393,  0.6016, -0.5234],\n",
      "         ...,\n",
      "         [-0.0483,  0.4551, -0.1113,  ..., -0.0182, -0.1689,  0.2617],\n",
      "         [-0.4375,  0.2256,  0.0522,  ...,  0.0874,  0.0156, -0.1250],\n",
      "         [-0.3164,  0.1138,  0.5859,  ...,  0.0186, -0.1836, -0.2109]]])\n",
      "torch.Size([1, 1, 4096])\n",
      "tensor([[[ 0.1426, -0.1338,  0.1758,  ...,  0.0571,  0.2949, -0.1543]]])\n",
      "torch.Size([1, 1, 4096])\n",
      "tensor([[[-0.4180, -0.7070,  0.5977,  ...,  0.1748, -0.3496, -0.4219]]])\n",
      "torch.Size([1, 1, 4096])\n",
      "tensor([[[-0.4258,  0.0898, -0.1797,  ..., -0.9492, -0.5117,  0.0664]]])\n",
      "torch.Size([1, 1, 4096])\n",
      "tensor([[[-0.2559,  0.0186, -0.0947,  ..., -0.1338, -0.4355,  0.3066]]])\n",
      "torch.Size([1, 1, 4096])\n",
      "tensor([[[-0.4297, -0.0742,  0.1787,  ..., -0.3340, -0.4043,  0.5742]]])\n",
      "torch.Size([1, 1, 4096])\n",
      "tensor([[[-0.3652, -0.2910,  0.2695,  ..., -0.2891, -0.2734,  0.7578]]])\n",
      "torch.Size([1, 1, 4096])\n",
      "tensor([[[-0.6055, -0.1748,  0.3633,  ..., -0.5391, -0.0137,  0.1807]]])\n",
      "torch.Size([1, 1, 4096])\n",
      "tensor([[[-0.7031,  0.3164, -0.0186,  ..., -0.4023, -0.2168, -0.2139]]])\n",
      "torch.Size([1, 1, 4096])\n",
      "tensor([[[-0.3594, -0.6875,  0.2031,  ..., -0.2773, -0.7578,  0.5312]]])\n",
      "torch.Size([1, 1, 4096])\n",
      "tensor([[[-0.4609, -0.0171, -0.2734,  ..., -0.5469, -0.5938,  0.1240]]])\n",
      "torch.Size([1, 1, 4096])\n",
      "tensor([[[-0.2617,  0.0962,  0.3047,  ..., -0.7773, -0.6602, -0.1797]]])\n",
      "torch.Size([1, 1, 4096])\n",
      "tensor([[[-0.3828,  1.2578,  0.3594,  ..., -0.5625,  0.2129,  0.0674]]])\n",
      "torch.Size([1, 1, 4096])\n",
      "tensor([[[-0.0654,  0.8242,  0.1318,  ...,  0.3477, -0.2500, -0.0820]]])\n"
     ]
    }
   ],
   "source": [
    "value_instruct, activation_instruct = generator.chat_completion(instruction_data_point,\n",
    "                                       max_gen_len=max_gen_len,\n",
    "                                       top_p=top_p,\n",
    "                                       temperature=temperature)"
   ]
  },
  {
   "cell_type": "code",
   "execution_count": 12,
   "metadata": {},
   "outputs": [
    {
     "data": {
      "text/plain": [
       "[{'generation': {'role': 'assistant',\n",
       "   'content': \"I'm ready to provide a response. What is the statement?\"}}]"
      ]
     },
     "execution_count": 12,
     "metadata": {},
     "output_type": "execute_result"
    }
   ],
   "source": [
    "value_instruct"
   ]
  },
  {
   "cell_type": "code",
   "execution_count": 13,
   "metadata": {},
   "outputs": [
    {
     "data": {
      "text/plain": [
       "[tensor([-0.2812,  0.1436,  0.1602,  ..., -0.1445,  0.0107,  0.0918]),\n",
       " tensor([ 0.1426, -0.1338,  0.1758,  ...,  0.0571,  0.2949, -0.1543]),\n",
       " tensor([-0.4180, -0.7070,  0.5977,  ...,  0.1748, -0.3496, -0.4219]),\n",
       " tensor([-0.4258,  0.0898, -0.1797,  ..., -0.9492, -0.5117,  0.0664]),\n",
       " tensor([-0.2559,  0.0186, -0.0947,  ..., -0.1338, -0.4355,  0.3066]),\n",
       " tensor([-0.4297, -0.0742,  0.1787,  ..., -0.3340, -0.4043,  0.5742]),\n",
       " tensor([-0.3652, -0.2910,  0.2695,  ..., -0.2891, -0.2734,  0.7578]),\n",
       " tensor([-0.6055, -0.1748,  0.3633,  ..., -0.5391, -0.0137,  0.1807]),\n",
       " tensor([-0.7031,  0.3164, -0.0186,  ..., -0.4023, -0.2168, -0.2139]),\n",
       " tensor([-0.3594, -0.6875,  0.2031,  ..., -0.2773, -0.7578,  0.5312]),\n",
       " tensor([-0.4609, -0.0171, -0.2734,  ..., -0.5469, -0.5938,  0.1240]),\n",
       " tensor([-0.2617,  0.0962,  0.3047,  ..., -0.7773, -0.6602, -0.1797]),\n",
       " tensor([-0.3828,  1.2578,  0.3594,  ..., -0.5625,  0.2129,  0.0674]),\n",
       " tensor([-0.0654,  0.8242,  0.1318,  ...,  0.3477, -0.2500, -0.0820])]"
      ]
     },
     "execution_count": 13,
     "metadata": {},
     "output_type": "execute_result"
    }
   ],
   "source": [
    "activation_instruct"
   ]
  },
  {
   "cell_type": "code",
   "execution_count": 10,
   "metadata": {},
   "outputs": [],
   "source": [
    "pos_vec_sum = torch.zeros([len(neg_activation_vector_dic[1])])\n",
    "for ind, item in pos_activation_vector_dic.items():\n",
    "    pos_vec_sum += 1/len(pos_activation_vector_dic)*item\n",
    "\n",
    "\n",
    "neg_vec_sum = torch.zeros([len(neg_activation_vector_dic[1])])\n",
    "for ind, item in neg_activation_vector_dic.items():\n",
    "    neg_vec_sum += 1/len(neg_activation_vector_dic)*item\n",
    "\n",
    "steering_vector = pos_vec_sum-neg_vec_sum\n"
   ]
  },
  {
   "cell_type": "code",
   "execution_count": 11,
   "metadata": {},
   "outputs": [
    {
     "name": "stdout",
     "output_type": "stream",
     "text": [
      "tensor([-0.2949,  0.0142, -0.0035,  ..., -0.1094,  0.0864,  0.1484])\n"
     ]
    }
   ],
   "source": [
    "print(steering_vector)"
   ]
  },
  {
   "cell_type": "code",
   "execution_count": 12,
   "metadata": {},
   "outputs": [],
   "source": [
    "torch.save(steering_vector, \"./steering_vector_layer28.pt\")"
   ]
  },
  {
   "cell_type": "code",
   "execution_count": null,
   "metadata": {},
   "outputs": [],
   "source": []
  }
 ],
 "metadata": {
  "kernelspec": {
   "display_name": "Coding_venv",
   "language": "python",
   "name": "python3"
  },
  "language_info": {
   "codemirror_mode": {
    "name": "ipython",
    "version": 3
   },
   "file_extension": ".py",
   "mimetype": "text/x-python",
   "name": "python",
   "nbconvert_exporter": "python",
   "pygments_lexer": "ipython3",
   "version": "3.11.9"
  }
 },
 "nbformat": 4,
 "nbformat_minor": 2
}
