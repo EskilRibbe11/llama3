{
 "cells": [
  {
   "cell_type": "code",
   "execution_count": 1,
   "metadata": {},
   "outputs": [],
   "source": [
    "import pandas as pd"
   ]
  },
  {
   "cell_type": "code",
   "execution_count": 2,
   "metadata": {},
   "outputs": [],
   "source": [
    "df = pd.read_csv(\"./test.csv\", delimiter=\",\")"
   ]
  },
  {
   "cell_type": "code",
   "execution_count": 3,
   "metadata": {},
   "outputs": [
    {
     "data": {
      "text/html": [
       "<div>\n",
       "<style scoped>\n",
       "    .dataframe tbody tr th:only-of-type {\n",
       "        vertical-align: middle;\n",
       "    }\n",
       "\n",
       "    .dataframe tbody tr th {\n",
       "        vertical-align: top;\n",
       "    }\n",
       "\n",
       "    .dataframe thead th {\n",
       "        text-align: right;\n",
       "    }\n",
       "</style>\n",
       "<table border=\"1\" class=\"dataframe\">\n",
       "  <thead>\n",
       "    <tr style=\"text-align: right;\">\n",
       "      <th></th>\n",
       "      <th>input</th>\n",
       "      <th>label</th>\n",
       "      <th>num_variables</th>\n",
       "      <th>template</th>\n",
       "    </tr>\n",
       "  </thead>\n",
       "  <tbody>\n",
       "    <tr>\n",
       "      <th>0</th>\n",
       "      <td>Premise: Suppose there is a closed system of 2...</td>\n",
       "      <td>0</td>\n",
       "      <td>2</td>\n",
       "      <td>has_collider</td>\n",
       "    </tr>\n",
       "    <tr>\n",
       "      <th>1</th>\n",
       "      <td>Premise: Suppose there is a closed system of 2...</td>\n",
       "      <td>0</td>\n",
       "      <td>2</td>\n",
       "      <td>parent</td>\n",
       "    </tr>\n",
       "  </tbody>\n",
       "</table>\n",
       "</div>"
      ],
      "text/plain": [
       "                                               input  label  num_variables  \\\n",
       "0  Premise: Suppose there is a closed system of 2...      0              2   \n",
       "1  Premise: Suppose there is a closed system of 2...      0              2   \n",
       "\n",
       "       template  \n",
       "0  has_collider  \n",
       "1        parent  "
      ]
     },
     "execution_count": 3,
     "metadata": {},
     "output_type": "execute_result"
    }
   ],
   "source": [
    "df.head(2)"
   ]
  },
  {
   "cell_type": "code",
   "execution_count": 4,
   "metadata": {},
   "outputs": [
    {
     "data": {
      "text/plain": [
       "RangeIndex(start=0, stop=1162, step=1)"
      ]
     },
     "execution_count": 4,
     "metadata": {},
     "output_type": "execute_result"
    }
   ],
   "source": [
    "df.index"
   ]
  },
  {
   "cell_type": "code",
   "execution_count": 5,
   "metadata": {},
   "outputs": [
    {
     "data": {
      "text/plain": [
       "0       2\n",
       "1       2\n",
       "2       2\n",
       "3       2\n",
       "4       2\n",
       "       ..\n",
       "1157    6\n",
       "1158    6\n",
       "1159    6\n",
       "1160    6\n",
       "1161    6\n",
       "Name: num_variables, Length: 1162, dtype: int64"
      ]
     },
     "execution_count": 5,
     "metadata": {},
     "output_type": "execute_result"
    }
   ],
   "source": [
    "df[\"num_variables\"]"
   ]
  },
  {
   "cell_type": "code",
   "execution_count": 14,
   "metadata": {},
   "outputs": [
    {
     "data": {
      "text/html": [
       "<div>\n",
       "<style scoped>\n",
       "    .dataframe tbody tr th:only-of-type {\n",
       "        vertical-align: middle;\n",
       "    }\n",
       "\n",
       "    .dataframe tbody tr th {\n",
       "        vertical-align: top;\n",
       "    }\n",
       "\n",
       "    .dataframe thead th {\n",
       "        text-align: right;\n",
       "    }\n",
       "</style>\n",
       "<table border=\"1\" class=\"dataframe\">\n",
       "  <thead>\n",
       "    <tr style=\"text-align: right;\">\n",
       "      <th></th>\n",
       "      <th>input</th>\n",
       "      <th>label</th>\n",
       "      <th>num_variables</th>\n",
       "      <th>template</th>\n",
       "    </tr>\n",
       "  </thead>\n",
       "  <tbody>\n",
       "    <tr>\n",
       "      <th>0</th>\n",
       "      <td>Premise: Suppose there is a closed system of 2...</td>\n",
       "      <td>0</td>\n",
       "      <td>2</td>\n",
       "      <td>has_collider</td>\n",
       "    </tr>\n",
       "    <tr>\n",
       "      <th>1</th>\n",
       "      <td>Premise: Suppose there is a closed system of 2...</td>\n",
       "      <td>0</td>\n",
       "      <td>2</td>\n",
       "      <td>parent</td>\n",
       "    </tr>\n",
       "    <tr>\n",
       "      <th>2</th>\n",
       "      <td>Premise: Suppose there is a closed system of 2...</td>\n",
       "      <td>0</td>\n",
       "      <td>2</td>\n",
       "      <td>non-child descendant</td>\n",
       "    </tr>\n",
       "    <tr>\n",
       "      <th>3</th>\n",
       "      <td>Premise: Suppose there is a closed system of 2...</td>\n",
       "      <td>0</td>\n",
       "      <td>2</td>\n",
       "      <td>child</td>\n",
       "    </tr>\n",
       "    <tr>\n",
       "      <th>4</th>\n",
       "      <td>Premise: Suppose there is a closed system of 2...</td>\n",
       "      <td>0</td>\n",
       "      <td>2</td>\n",
       "      <td>non-parent ancestor</td>\n",
       "    </tr>\n",
       "    <tr>\n",
       "      <th>...</th>\n",
       "      <td>...</td>\n",
       "      <td>...</td>\n",
       "      <td>...</td>\n",
       "      <td>...</td>\n",
       "    </tr>\n",
       "    <tr>\n",
       "      <th>1157</th>\n",
       "      <td>Premise: Suppose there is a closed system of 6...</td>\n",
       "      <td>1</td>\n",
       "      <td>6</td>\n",
       "      <td>has_collider</td>\n",
       "    </tr>\n",
       "    <tr>\n",
       "      <th>1158</th>\n",
       "      <td>Premise: Suppose there is a closed system of 6...</td>\n",
       "      <td>1</td>\n",
       "      <td>6</td>\n",
       "      <td>has_collider</td>\n",
       "    </tr>\n",
       "    <tr>\n",
       "      <th>1159</th>\n",
       "      <td>Premise: Suppose there is a closed system of 6...</td>\n",
       "      <td>0</td>\n",
       "      <td>6</td>\n",
       "      <td>has_collider</td>\n",
       "    </tr>\n",
       "    <tr>\n",
       "      <th>1160</th>\n",
       "      <td>Premise: Suppose there is a closed system of 6...</td>\n",
       "      <td>1</td>\n",
       "      <td>6</td>\n",
       "      <td>has_collider</td>\n",
       "    </tr>\n",
       "    <tr>\n",
       "      <th>1161</th>\n",
       "      <td>Premise: Suppose there is a closed system of 6...</td>\n",
       "      <td>0</td>\n",
       "      <td>6</td>\n",
       "      <td>non-child descendant</td>\n",
       "    </tr>\n",
       "  </tbody>\n",
       "</table>\n",
       "<p>1162 rows × 4 columns</p>\n",
       "</div>"
      ],
      "text/plain": [
       "                                                  input  label  num_variables  \\\n",
       "0     Premise: Suppose there is a closed system of 2...      0              2   \n",
       "1     Premise: Suppose there is a closed system of 2...      0              2   \n",
       "2     Premise: Suppose there is a closed system of 2...      0              2   \n",
       "3     Premise: Suppose there is a closed system of 2...      0              2   \n",
       "4     Premise: Suppose there is a closed system of 2...      0              2   \n",
       "...                                                 ...    ...            ...   \n",
       "1157  Premise: Suppose there is a closed system of 6...      1              6   \n",
       "1158  Premise: Suppose there is a closed system of 6...      1              6   \n",
       "1159  Premise: Suppose there is a closed system of 6...      0              6   \n",
       "1160  Premise: Suppose there is a closed system of 6...      1              6   \n",
       "1161  Premise: Suppose there is a closed system of 6...      0              6   \n",
       "\n",
       "                  template  \n",
       "0             has_collider  \n",
       "1                   parent  \n",
       "2     non-child descendant  \n",
       "3                    child  \n",
       "4      non-parent ancestor  \n",
       "...                    ...  \n",
       "1157          has_collider  \n",
       "1158          has_collider  \n",
       "1159          has_collider  \n",
       "1160          has_collider  \n",
       "1161  non-child descendant  \n",
       "\n",
       "[1162 rows x 4 columns]"
      ]
     },
     "execution_count": 14,
     "metadata": {},
     "output_type": "execute_result"
    }
   ],
   "source": [
    "df.sort_index()"
   ]
  },
  {
   "cell_type": "code",
   "execution_count": 26,
   "metadata": {},
   "outputs": [],
   "source": [
    "new_row = pd.Series({\"input\":\"this is a test\", \"label\":2, \"num_variables\":3, \"template\":\"this is stupid\"})"
   ]
  },
  {
   "cell_type": "code",
   "execution_count": 27,
   "metadata": {},
   "outputs": [
    {
     "data": {
      "text/plain": [
       "input            this is a test\n",
       "label                         2\n",
       "num_variables                 3\n",
       "template         this is stupid\n",
       "dtype: object"
      ]
     },
     "execution_count": 27,
     "metadata": {},
     "output_type": "execute_result"
    }
   ],
   "source": [
    "new_row"
   ]
  },
  {
   "cell_type": "code",
   "execution_count": 31,
   "metadata": {},
   "outputs": [
    {
     "data": {
      "text/html": [
       "<div>\n",
       "<style scoped>\n",
       "    .dataframe tbody tr th:only-of-type {\n",
       "        vertical-align: middle;\n",
       "    }\n",
       "\n",
       "    .dataframe tbody tr th {\n",
       "        vertical-align: top;\n",
       "    }\n",
       "\n",
       "    .dataframe thead th {\n",
       "        text-align: right;\n",
       "    }\n",
       "</style>\n",
       "<table border=\"1\" class=\"dataframe\">\n",
       "  <thead>\n",
       "    <tr style=\"text-align: right;\">\n",
       "      <th></th>\n",
       "      <th>input</th>\n",
       "      <th>label</th>\n",
       "      <th>num_variables</th>\n",
       "      <th>template</th>\n",
       "    </tr>\n",
       "  </thead>\n",
       "  <tbody>\n",
       "    <tr>\n",
       "      <th>0</th>\n",
       "      <td>Premise: Suppose there is a closed system of 2...</td>\n",
       "      <td>0</td>\n",
       "      <td>2</td>\n",
       "      <td>has_collider</td>\n",
       "    </tr>\n",
       "    <tr>\n",
       "      <th>1</th>\n",
       "      <td>Premise: Suppose there is a closed system of 2...</td>\n",
       "      <td>0</td>\n",
       "      <td>2</td>\n",
       "      <td>parent</td>\n",
       "    </tr>\n",
       "    <tr>\n",
       "      <th>2</th>\n",
       "      <td>Premise: Suppose there is a closed system of 2...</td>\n",
       "      <td>0</td>\n",
       "      <td>2</td>\n",
       "      <td>non-child descendant</td>\n",
       "    </tr>\n",
       "  </tbody>\n",
       "</table>\n",
       "</div>"
      ],
      "text/plain": [
       "                                               input  label  num_variables  \\\n",
       "0  Premise: Suppose there is a closed system of 2...      0              2   \n",
       "1  Premise: Suppose there is a closed system of 2...      0              2   \n",
       "2  Premise: Suppose there is a closed system of 2...      0              2   \n",
       "\n",
       "               template  \n",
       "0          has_collider  \n",
       "1                parent  \n",
       "2  non-child descendant  "
      ]
     },
     "execution_count": 31,
     "metadata": {},
     "output_type": "execute_result"
    }
   ],
   "source": [
    "df[0:3]"
   ]
  },
  {
   "cell_type": "code",
   "execution_count": 52,
   "metadata": {},
   "outputs": [],
   "source": [
    "useful = df.loc[:, [\"input\", \"label\"]]"
   ]
  },
  {
   "cell_type": "code",
   "execution_count": 58,
   "metadata": {},
   "outputs": [
    {
     "data": {
      "text/plain": [
       "0"
      ]
     },
     "execution_count": 58,
     "metadata": {},
     "output_type": "execute_result"
    }
   ],
   "source": [
    "df.loc[1, \"label\"]"
   ]
  },
  {
   "cell_type": "code",
   "execution_count": 59,
   "metadata": {},
   "outputs": [
    {
     "data": {
      "text/plain": [
       "'Premise: Suppose there is a closed system of 2 variables, A and B. All the statistical relations among these 2 variables are as follows: A correlates with B.\\nHypothesis: A directly causes B.'"
      ]
     },
     "execution_count": 59,
     "metadata": {},
     "output_type": "execute_result"
    }
   ],
   "source": [
    "df.iloc[1, 0]"
   ]
  },
  {
   "cell_type": "code",
   "execution_count": 62,
   "metadata": {},
   "outputs": [
    {
     "data": {
      "text/html": [
       "<div>\n",
       "<style scoped>\n",
       "    .dataframe tbody tr th:only-of-type {\n",
       "        vertical-align: middle;\n",
       "    }\n",
       "\n",
       "    .dataframe tbody tr th {\n",
       "        vertical-align: top;\n",
       "    }\n",
       "\n",
       "    .dataframe thead th {\n",
       "        text-align: right;\n",
       "    }\n",
       "</style>\n",
       "<table border=\"1\" class=\"dataframe\">\n",
       "  <thead>\n",
       "    <tr style=\"text-align: right;\">\n",
       "      <th></th>\n",
       "      <th>input</th>\n",
       "      <th>label</th>\n",
       "    </tr>\n",
       "  </thead>\n",
       "  <tbody>\n",
       "    <tr>\n",
       "      <th>0</th>\n",
       "      <td>Premise: Suppose there is a closed system of 2...</td>\n",
       "      <td>0</td>\n",
       "    </tr>\n",
       "    <tr>\n",
       "      <th>1</th>\n",
       "      <td>Premise: Suppose there is a closed system of 2...</td>\n",
       "      <td>0</td>\n",
       "    </tr>\n",
       "    <tr>\n",
       "      <th>2</th>\n",
       "      <td>Premise: Suppose there is a closed system of 2...</td>\n",
       "      <td>0</td>\n",
       "    </tr>\n",
       "    <tr>\n",
       "      <th>3</th>\n",
       "      <td>Premise: Suppose there is a closed system of 2...</td>\n",
       "      <td>0</td>\n",
       "    </tr>\n",
       "    <tr>\n",
       "      <th>4</th>\n",
       "      <td>Premise: Suppose there is a closed system of 2...</td>\n",
       "      <td>0</td>\n",
       "    </tr>\n",
       "    <tr>\n",
       "      <th>...</th>\n",
       "      <td>...</td>\n",
       "      <td>...</td>\n",
       "    </tr>\n",
       "    <tr>\n",
       "      <th>1157</th>\n",
       "      <td>Premise: Suppose there is a closed system of 6...</td>\n",
       "      <td>1</td>\n",
       "    </tr>\n",
       "    <tr>\n",
       "      <th>1158</th>\n",
       "      <td>Premise: Suppose there is a closed system of 6...</td>\n",
       "      <td>1</td>\n",
       "    </tr>\n",
       "    <tr>\n",
       "      <th>1159</th>\n",
       "      <td>Premise: Suppose there is a closed system of 6...</td>\n",
       "      <td>0</td>\n",
       "    </tr>\n",
       "    <tr>\n",
       "      <th>1160</th>\n",
       "      <td>Premise: Suppose there is a closed system of 6...</td>\n",
       "      <td>1</td>\n",
       "    </tr>\n",
       "    <tr>\n",
       "      <th>1161</th>\n",
       "      <td>Premise: Suppose there is a closed system of 6...</td>\n",
       "      <td>0</td>\n",
       "    </tr>\n",
       "  </tbody>\n",
       "</table>\n",
       "<p>1162 rows × 2 columns</p>\n",
       "</div>"
      ],
      "text/plain": [
       "                                                  input  label\n",
       "0     Premise: Suppose there is a closed system of 2...      0\n",
       "1     Premise: Suppose there is a closed system of 2...      0\n",
       "2     Premise: Suppose there is a closed system of 2...      0\n",
       "3     Premise: Suppose there is a closed system of 2...      0\n",
       "4     Premise: Suppose there is a closed system of 2...      0\n",
       "...                                                 ...    ...\n",
       "1157  Premise: Suppose there is a closed system of 6...      1\n",
       "1158  Premise: Suppose there is a closed system of 6...      1\n",
       "1159  Premise: Suppose there is a closed system of 6...      0\n",
       "1160  Premise: Suppose there is a closed system of 6...      1\n",
       "1161  Premise: Suppose there is a closed system of 6...      0\n",
       "\n",
       "[1162 rows x 2 columns]"
      ]
     },
     "execution_count": 62,
     "metadata": {},
     "output_type": "execute_result"
    }
   ],
   "source": [
    "useful"
   ]
  },
  {
   "cell_type": "code",
   "execution_count": null,
   "metadata": {},
   "outputs": [],
   "source": []
  }
 ],
 "metadata": {
  "kernelspec": {
   "display_name": "Coding_venv",
   "language": "python",
   "name": "python3"
  },
  "language_info": {
   "codemirror_mode": {
    "name": "ipython",
    "version": 3
   },
   "file_extension": ".py",
   "mimetype": "text/x-python",
   "name": "python",
   "nbconvert_exporter": "python",
   "pygments_lexer": "ipython3",
   "version": "3.11.9"
  }
 },
 "nbformat": 4,
 "nbformat_minor": 2
}
