{
 "cells": [
  {
   "cell_type": "code",
   "execution_count": null,
   "metadata": {},
   "outputs": [],
   "source": [
    "from typing import List, Optional\n",
    "\n",
    "import fire\n",
    "\n",
    "from llama import Dialog, Llama\n",
    "import torch.distributed as dist\n",
    "import torch\n",
    "import os\n",
    "from data_casual import output_list_test, input_list_test"
   ]
  },
  {
   "cell_type": "code",
   "execution_count": 2,
   "metadata": {},
   "outputs": [
    {
     "data": {
      "text/plain": [
       "[{'role': 'system',\n",
       "  'content': 'Work out your answer step by step and think carefully.'},\n",
       " {'role': 'system',\n",
       "  'content': 'You are a helpful assistant in casual reasoning, is the following reasoning true?'},\n",
       " {'role': 'user',\n",
       "  'content': 'Premise: Suppose there is a closed system of 4 variables, A, B, C and D. All the statistical relations among these 4 variables are as follows: A correlates with B. A correlates with C. B correlates with C. However, A is independent of D. A and D are independent given B. A and D are independent given B and C. A and D are independent given C. B is independent of D. B and D are independent given A. B and D are independent given A and C. B and D are independent given C. C is independent of D. C and D are independent given A. C and D are independent given A and B. C and D are independent given B.\\nHypothesis: There exists at least one collider (i.e., common effect) of A and D.'}]"
      ]
     },
     "execution_count": 2,
     "metadata": {},
     "output_type": "execute_result"
    }
   ],
   "source": [
    "input_list_test[123]"
   ]
  },
  {
   "cell_type": "code",
   "execution_count": 3,
   "metadata": {},
   "outputs": [
    {
     "name": "stdout",
     "output_type": "stream",
     "text": [
      "> initializing model parallel with size 1\n",
      "> initializing ddp with size 1\n",
      "> initializing pipeline with size 1\n"
     ]
    },
    {
     "name": "stderr",
     "output_type": "stream",
     "text": [
      "c:\\Users\\Ribbe\\Coding\\VSC\\FU_Berlin\\Actual_Work\\llama3\\llama\\generation.py:95: FutureWarning: You are using `torch.load` with `weights_only=False` (the current default value), which uses the default pickle module implicitly. It is possible to construct malicious pickle data which will execute arbitrary code during unpickling (See https://github.com/pytorch/pytorch/blob/main/SECURITY.md#untrusted-models for more details). In a future release, the default value for `weights_only` will be flipped to `True`. This limits the functions that could be executed during unpickling. Arbitrary objects will no longer be allowed to be loaded via this mode unless they are explicitly allowlisted by the user via `torch.serialization.add_safe_globals`. We recommend you start setting `weights_only=True` for any use case where you don't have full control of the loaded file. Please open an issue on GitHub for any issues related to this experimental feature.\n",
      "  checkpoint = torch.load(ckpt_path, map_location=\"cpu\")\n",
      "c:\\Users\\Ribbe\\Coding\\VSC\\Coding_venv\\Lib\\site-packages\\torch\\__init__.py:1144: UserWarning: torch.set_default_tensor_type() is deprecated as of PyTorch 2.1, please use torch.set_default_dtype() and torch.set_default_device() as alternatives. (Triggered internally at C:\\actions-runner\\_work\\pytorch\\pytorch\\builder\\windows\\pytorch\\torch\\csrc\\tensor\\python_tensor.cpp:434.)\n",
      "  _C._set_default_tensor_type(t)\n"
     ]
    },
    {
     "name": "stdout",
     "output_type": "stream",
     "text": [
      "Loaded in 134.55 seconds\n"
     ]
    }
   ],
   "source": [
    "generator = Llama.build(\"./\", \"./tokenizer.model\",max_seq_len= 1024,max_batch_size= 4)"
   ]
  },
  {
   "cell_type": "code",
   "execution_count": 4,
   "metadata": {},
   "outputs": [],
   "source": [
    "Tokenizer = generator.tokenizer\n",
    "ckpt_dir = \"./\"\n",
    "tokenizer_path = \"./tokenizer.model\"\n",
    "temperature = 0.6\n",
    "top_p = 0.9\n",
    "max_seq_len = 1024\n",
    "max_batch_size = 4\n",
    "max_gen_len= None"
   ]
  },
  {
   "cell_type": "code",
   "execution_count": 5,
   "metadata": {},
   "outputs": [
    {
     "name": "stdout",
     "output_type": "stream",
     "text": [
      "[{'role': 'system', 'content': 'Work out your answer step by step and think carefully.'}, {'role': 'system', 'content': 'You are a helpful assistant in casual reasoning, is the following reasoning true?'}, {'role': 'user', 'content': 'Premise: Suppose there is a closed system of 6 variables, A, B, C, D, E and F. All the statistical relations among these 6 variables are as follows: A correlates with C. A correlates with D. A correlates with E. A correlates with F. B correlates with D. B correlates with E. B correlates with F. C correlates with D. C correlates with E. C correlates with F. D correlates with E. D correlates with F. E correlates with F. However, A is independent of B. A and B are independent given C. B is independent of C. B and C are independent given A. B and F are independent given A, C, D and E. B and F are independent given A, D and E. C and E are independent given A, B and D. C and E are independent given A, B, D and F. C and F are independent given A, B and D. C and F are independent given A, B, D and E. C and F are independent given A, D and E.\\nHypothesis: A directly causes D.'}]\n"
     ]
    }
   ],
   "source": [
    "print(input_list_test[1142])"
   ]
  },
  {
   "cell_type": "code",
   "execution_count": null,
   "metadata": {},
   "outputs": [
    {
     "name": "stdout",
     "output_type": "stream",
     "text": [
      "A delightful puzzle!\n",
      "\n",
      "Let's break it down step by step.\n",
      "\n",
      "**Step 1: Analyze the correlations**\n",
      "\n",
      "From the premises, we know that A correlates with C, D, E, and F. This means that A is associated with all these variables, but we don't know the direction of causality yet.\n",
      "\n",
      "We also know that B correlates with D, E, and F, but is independent of A. This suggests that B might be a mediator between A and other variables, but we need to be careful not to assume causality.\n",
      "\n",
      "**Step 2: Examine the independence statements**\n",
      "\n",
      "The independence statements are crucial here. We know that A is independent of B, which means that A does not directly cause B. This is consistent with our observation that A correlates with C, D, E, and F, but not B.\n",
      "\n",
      "We also know that B is independent of C, which means that B does not directly cause C. This is consistent with our observation that B correlates with D, E, and F, but not C.\n",
      "\n",
      "**Step 3: Look for potential confounders**\n",
      "\n",
      "Given the correlations and independence statements, we can look for potential confounders that might be influencing the relationships between A and other variables.\n",
      "\n",
      "For example, C is a potential confounder because A correlates with C, and C correlates with D, E, and F. If C is a confounder, it might explain the correlations between A and these variables.\n",
      "\n",
      "**Step 4: Evaluate the hypothesis**\n",
      "\n",
      "Now, let's evaluate the hypothesis that A directly causes D.\n",
      "\n",
      "If A directly causes D, then we would expect A to be correlated with D, which is indeed the case. However, we also need to consider the potential confounders, such as C.\n",
      "\n",
      "If C is a confounder, then the correlation between A and D might be due to C, rather than A directly causing D. In this case, the hypothesis would be incorrect.\n",
      "\n",
      "**Conclusion**\n",
      "\n",
      "After analyzing the premises and evaluating the hypothesis, we can conclude that the hypothesis \"A directly causes D\" is **not supported** by the given information.\n",
      "\n",
      "The correlations and independence statements suggest that C is a potential confounder that might be influencing the relationship between A and D. Therefore, we cannot conclude that A directly causes D.\n"
     ]
    }
   ],
   "source": [
    "test = generator.chat_completion([input_list_test[1142]], max_gen_len=max_gen_len,top_p=top_p, temperature=temperature)\n",
    "print(test[0]['generation']['content'])"
   ]
  },
  {
   "cell_type": "code",
   "execution_count": null,
   "metadata": {},
   "outputs": [
    {
     "name": "stdout",
     "output_type": "stream",
     "text": [
      "1\n"
     ]
    }
   ],
   "source": [
    "loss = 0\n",
    "n = len(input_list_test)\n",
    "\n",
    "for i in range(n):\n",
    "    value = generator.chat_completion([input_list_test[i]],\n",
    "                                       max_gen_len=max_gen_len,\n",
    "                                       top_p=top_p,\n",
    "                                       temperature=temperature)\n",
    "    value2 = 1 if value[0][\"generation\"][\"content\"]==\"T\" else 0\n",
    "    loss += 1/n*abs(int(output_list_test[i])-int(value2))\n",
    "\n",
    "print(loss)"
   ]
  },
  {
   "cell_type": "code",
   "execution_count": null,
   "metadata": {},
   "outputs": [],
   "source": []
  }
 ],
 "metadata": {
  "kernelspec": {
   "display_name": "Coding_venv",
   "language": "python",
   "name": "python3"
  },
  "language_info": {
   "codemirror_mode": {
    "name": "ipython",
    "version": 3
   },
   "file_extension": ".py",
   "mimetype": "text/x-python",
   "name": "python",
   "nbconvert_exporter": "python",
   "pygments_lexer": "ipython3",
   "version": "3.11.9"
  }
 },
 "nbformat": 4,
 "nbformat_minor": 2
}
